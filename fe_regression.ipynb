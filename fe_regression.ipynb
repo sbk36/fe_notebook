{
  "cells": [
    {
      "cell_type": "code",
      "execution_count": 1,
      "metadata": {
        "collapsed": true,
        "id": "uddyJ9dKh3gP"
      },
      "outputs": [],
      "source": [
        "# Importing the libraries\n",
        "import numpy as np\n",
        "import matplotlib.pyplot as plt\n",
        "import pandas as pd\n",
        "import seaborn as sns\n",
        "%matplotlib inline"
      ]
    },
    {
      "cell_type": "code",
      "execution_count": 150,
      "metadata": {
        "colab": {
          "base_uri": "https://localhost:8080/",
          "height": 486
        },
        "id": "6DEQ0Y8Wh3gT",
        "outputId": "3abb6baa-1247-4685-fdda-d904f42c9f00"
      },
      "outputs": [
        {
          "output_type": "execute_result",
          "data": {
            "text/plain": [
              "                       Name  NetWorth        Country         Source  Rank  \\\n",
              "0                Jeff Bezos     177.0  United States         Amazon     1   \n",
              "1                 Elon Musk     151.0  United States  Tesla, SpaceX     2   \n",
              "2  Bernard Arnault & family     150.0         France           LVMH     3   \n",
              "3                Bill Gates     124.0  United States      Microsoft     4   \n",
              "4           Mark Zuckerberg      97.0  United States       Facebook     5   \n",
              "\n",
              "    Age              Residence    Citizenship           Status  Children  \\\n",
              "0  57.0    Seattle, Washington  United States  In Relationship       4.0   \n",
              "1  49.0          Austin, Texas  United States  In Relationship       7.0   \n",
              "2  72.0          Paris, France         France          Married       5.0   \n",
              "3  65.0     Medina, Washington  United States         Divorced       3.0   \n",
              "4  36.0  Palo Alto, California  United States          Married       2.0   \n",
              "\n",
              "                                           Education Self_made  \n",
              "0     Bachelor of Arts/Science, Princeton University      True  \n",
              "1  Bachelor of Arts/Science, University of Pennsy...      True  \n",
              "2  Bachelor of Arts/Science, Ecole Polytechnique ...     False  \n",
              "3                       Drop Out, Harvard University      True  \n",
              "4                       Drop Out, Harvard University      True  "
            ],
            "text/html": [
              "\n",
              "  <div id=\"df-d56673e8-c047-4ae2-83b7-f6a3feec1d8c\">\n",
              "    <div class=\"colab-df-container\">\n",
              "      <div>\n",
              "<style scoped>\n",
              "    .dataframe tbody tr th:only-of-type {\n",
              "        vertical-align: middle;\n",
              "    }\n",
              "\n",
              "    .dataframe tbody tr th {\n",
              "        vertical-align: top;\n",
              "    }\n",
              "\n",
              "    .dataframe thead th {\n",
              "        text-align: right;\n",
              "    }\n",
              "</style>\n",
              "<table border=\"1\" class=\"dataframe\">\n",
              "  <thead>\n",
              "    <tr style=\"text-align: right;\">\n",
              "      <th></th>\n",
              "      <th>Name</th>\n",
              "      <th>NetWorth</th>\n",
              "      <th>Country</th>\n",
              "      <th>Source</th>\n",
              "      <th>Rank</th>\n",
              "      <th>Age</th>\n",
              "      <th>Residence</th>\n",
              "      <th>Citizenship</th>\n",
              "      <th>Status</th>\n",
              "      <th>Children</th>\n",
              "      <th>Education</th>\n",
              "      <th>Self_made</th>\n",
              "    </tr>\n",
              "  </thead>\n",
              "  <tbody>\n",
              "    <tr>\n",
              "      <th>0</th>\n",
              "      <td>Jeff Bezos</td>\n",
              "      <td>177.0</td>\n",
              "      <td>United States</td>\n",
              "      <td>Amazon</td>\n",
              "      <td>1</td>\n",
              "      <td>57.0</td>\n",
              "      <td>Seattle, Washington</td>\n",
              "      <td>United States</td>\n",
              "      <td>In Relationship</td>\n",
              "      <td>4.0</td>\n",
              "      <td>Bachelor of Arts/Science, Princeton University</td>\n",
              "      <td>True</td>\n",
              "    </tr>\n",
              "    <tr>\n",
              "      <th>1</th>\n",
              "      <td>Elon Musk</td>\n",
              "      <td>151.0</td>\n",
              "      <td>United States</td>\n",
              "      <td>Tesla, SpaceX</td>\n",
              "      <td>2</td>\n",
              "      <td>49.0</td>\n",
              "      <td>Austin, Texas</td>\n",
              "      <td>United States</td>\n",
              "      <td>In Relationship</td>\n",
              "      <td>7.0</td>\n",
              "      <td>Bachelor of Arts/Science, University of Pennsy...</td>\n",
              "      <td>True</td>\n",
              "    </tr>\n",
              "    <tr>\n",
              "      <th>2</th>\n",
              "      <td>Bernard Arnault &amp; family</td>\n",
              "      <td>150.0</td>\n",
              "      <td>France</td>\n",
              "      <td>LVMH</td>\n",
              "      <td>3</td>\n",
              "      <td>72.0</td>\n",
              "      <td>Paris, France</td>\n",
              "      <td>France</td>\n",
              "      <td>Married</td>\n",
              "      <td>5.0</td>\n",
              "      <td>Bachelor of Arts/Science, Ecole Polytechnique ...</td>\n",
              "      <td>False</td>\n",
              "    </tr>\n",
              "    <tr>\n",
              "      <th>3</th>\n",
              "      <td>Bill Gates</td>\n",
              "      <td>124.0</td>\n",
              "      <td>United States</td>\n",
              "      <td>Microsoft</td>\n",
              "      <td>4</td>\n",
              "      <td>65.0</td>\n",
              "      <td>Medina, Washington</td>\n",
              "      <td>United States</td>\n",
              "      <td>Divorced</td>\n",
              "      <td>3.0</td>\n",
              "      <td>Drop Out, Harvard University</td>\n",
              "      <td>True</td>\n",
              "    </tr>\n",
              "    <tr>\n",
              "      <th>4</th>\n",
              "      <td>Mark Zuckerberg</td>\n",
              "      <td>97.0</td>\n",
              "      <td>United States</td>\n",
              "      <td>Facebook</td>\n",
              "      <td>5</td>\n",
              "      <td>36.0</td>\n",
              "      <td>Palo Alto, California</td>\n",
              "      <td>United States</td>\n",
              "      <td>Married</td>\n",
              "      <td>2.0</td>\n",
              "      <td>Drop Out, Harvard University</td>\n",
              "      <td>True</td>\n",
              "    </tr>\n",
              "  </tbody>\n",
              "</table>\n",
              "</div>\n",
              "      <button class=\"colab-df-convert\" onclick=\"convertToInteractive('df-d56673e8-c047-4ae2-83b7-f6a3feec1d8c')\"\n",
              "              title=\"Convert this dataframe to an interactive table.\"\n",
              "              style=\"display:none;\">\n",
              "        \n",
              "  <svg xmlns=\"http://www.w3.org/2000/svg\" height=\"24px\"viewBox=\"0 0 24 24\"\n",
              "       width=\"24px\">\n",
              "    <path d=\"M0 0h24v24H0V0z\" fill=\"none\"/>\n",
              "    <path d=\"M18.56 5.44l.94 2.06.94-2.06 2.06-.94-2.06-.94-.94-2.06-.94 2.06-2.06.94zm-11 1L8.5 8.5l.94-2.06 2.06-.94-2.06-.94L8.5 2.5l-.94 2.06-2.06.94zm10 10l.94 2.06.94-2.06 2.06-.94-2.06-.94-.94-2.06-.94 2.06-2.06.94z\"/><path d=\"M17.41 7.96l-1.37-1.37c-.4-.4-.92-.59-1.43-.59-.52 0-1.04.2-1.43.59L10.3 9.45l-7.72 7.72c-.78.78-.78 2.05 0 2.83L4 21.41c.39.39.9.59 1.41.59.51 0 1.02-.2 1.41-.59l7.78-7.78 2.81-2.81c.8-.78.8-2.07 0-2.86zM5.41 20L4 18.59l7.72-7.72 1.47 1.35L5.41 20z\"/>\n",
              "  </svg>\n",
              "      </button>\n",
              "      \n",
              "  <style>\n",
              "    .colab-df-container {\n",
              "      display:flex;\n",
              "      flex-wrap:wrap;\n",
              "      gap: 12px;\n",
              "    }\n",
              "\n",
              "    .colab-df-convert {\n",
              "      background-color: #E8F0FE;\n",
              "      border: none;\n",
              "      border-radius: 50%;\n",
              "      cursor: pointer;\n",
              "      display: none;\n",
              "      fill: #1967D2;\n",
              "      height: 32px;\n",
              "      padding: 0 0 0 0;\n",
              "      width: 32px;\n",
              "    }\n",
              "\n",
              "    .colab-df-convert:hover {\n",
              "      background-color: #E2EBFA;\n",
              "      box-shadow: 0px 1px 2px rgba(60, 64, 67, 0.3), 0px 1px 3px 1px rgba(60, 64, 67, 0.15);\n",
              "      fill: #174EA6;\n",
              "    }\n",
              "\n",
              "    [theme=dark] .colab-df-convert {\n",
              "      background-color: #3B4455;\n",
              "      fill: #D2E3FC;\n",
              "    }\n",
              "\n",
              "    [theme=dark] .colab-df-convert:hover {\n",
              "      background-color: #434B5C;\n",
              "      box-shadow: 0px 1px 3px 1px rgba(0, 0, 0, 0.15);\n",
              "      filter: drop-shadow(0px 1px 2px rgba(0, 0, 0, 0.3));\n",
              "      fill: #FFFFFF;\n",
              "    }\n",
              "  </style>\n",
              "\n",
              "      <script>\n",
              "        const buttonEl =\n",
              "          document.querySelector('#df-d56673e8-c047-4ae2-83b7-f6a3feec1d8c button.colab-df-convert');\n",
              "        buttonEl.style.display =\n",
              "          google.colab.kernel.accessAllowed ? 'block' : 'none';\n",
              "\n",
              "        async function convertToInteractive(key) {\n",
              "          const element = document.querySelector('#df-d56673e8-c047-4ae2-83b7-f6a3feec1d8c');\n",
              "          const dataTable =\n",
              "            await google.colab.kernel.invokeFunction('convertToInteractive',\n",
              "                                                     [key], {});\n",
              "          if (!dataTable) return;\n",
              "\n",
              "          const docLinkHtml = 'Like what you see? Visit the ' +\n",
              "            '<a target=\"_blank\" href=https://colab.research.google.com/notebooks/data_table.ipynb>data table notebook</a>'\n",
              "            + ' to learn more about interactive tables.';\n",
              "          element.innerHTML = '';\n",
              "          dataTable['output_type'] = 'display_data';\n",
              "          await google.colab.output.renderOutput(dataTable, element);\n",
              "          const docLink = document.createElement('div');\n",
              "          docLink.innerHTML = docLinkHtml;\n",
              "          element.appendChild(docLink);\n",
              "        }\n",
              "      </script>\n",
              "    </div>\n",
              "  </div>\n",
              "  "
            ]
          },
          "metadata": {},
          "execution_count": 150
        }
      ],
      "source": [
        "df = pd.read_csv('forbes_billionaires.csv')\n",
        "df.head()"
      ]
    },
    {
      "cell_type": "code",
      "execution_count": 45,
      "metadata": {
        "colab": {
          "base_uri": "https://localhost:8080/"
        },
        "id": "K0jpcGhAh3gU",
        "outputId": "54714e36-ac2d-4641-c056-e7c02e2bf672"
      },
      "outputs": [
        {
          "output_type": "stream",
          "name": "stdout",
          "text": [
            "<class 'pandas.core.frame.DataFrame'>\n",
            "RangeIndex: 2755 entries, 0 to 2754\n",
            "Data columns (total 12 columns):\n",
            " #   Column       Non-Null Count  Dtype  \n",
            "---  ------       --------------  -----  \n",
            " 0   Name         2755 non-null   object \n",
            " 1   NetWorth     2755 non-null   float64\n",
            " 2   Country      2755 non-null   object \n",
            " 3   Source       2755 non-null   object \n",
            " 4   Rank         2755 non-null   int64  \n",
            " 5   Age          2630 non-null   float64\n",
            " 6   Residence    2715 non-null   object \n",
            " 7   Citizenship  2739 non-null   object \n",
            " 8   Status       2090 non-null   object \n",
            " 9   Children     1552 non-null   float64\n",
            " 10  Education    1409 non-null   object \n",
            " 11  Self_made    2737 non-null   object \n",
            "dtypes: float64(3), int64(1), object(8)\n",
            "memory usage: 258.4+ KB\n"
          ]
        }
      ],
      "source": [
        "df.info()"
      ]
    },
    {
      "cell_type": "code",
      "source": [
        "def rand_fill_na(series):\n",
        "    boolean_mask_na = pd.isnull(series)   \n",
        "    nullcount = boolean_mask_na.sum()        \n",
        "\n",
        "    if nullcount == 0:\n",
        "        return series            \n",
        "    \n",
        "    valuefill = series[~boolean_mask_na].sample(n=nullcount, replace=True, random_state=0)\n",
        "\n",
        "    valuefill.index = series.index[boolean_mask_na]\n",
        "    \n",
        "    return series.fillna(valuefill) "
      ],
      "metadata": {
        "id": "D6S58dYB0Tro"
      },
      "execution_count": 151,
      "outputs": []
    },
    {
      "cell_type": "code",
      "source": [
        "df[\"age\"] = rand_fill_na(df[\"Age\"])\n"
      ],
      "metadata": {
        "id": "QoabtOlVz3Xu"
      },
      "execution_count": 152,
      "outputs": []
    },
    {
      "cell_type": "code",
      "source": [
        "df.drop('Age', axis = True, inplace=True)\n"
      ],
      "metadata": {
        "id": "RmVuRyBrz59g"
      },
      "execution_count": 153,
      "outputs": []
    },
    {
      "cell_type": "code",
      "execution_count": 97,
      "metadata": {
        "colab": {
          "base_uri": "https://localhost:8080/"
        },
        "id": "ia-Nl8Fvh3gV",
        "outputId": "6455d2ff-6fd8-430a-b3b6-69b2aa3b2e53"
      },
      "outputs": [
        {
          "output_type": "execute_result",
          "data": {
            "text/plain": [
              "Robert Miller             2\n",
              "Li Li                     2\n",
              "Wang Yanqing & family     2\n",
              "Chen Guoxiang & family    1\n",
              "Tony Chen                 1\n",
              "                         ..\n",
              "Frank VanderSloot         1\n",
              "Kelcy Warren              1\n",
              "Xu Yi                     1\n",
              "Vladimir Yevtushenkov     1\n",
              "Zhou Wei family           1\n",
              "Name: Name, Length: 2752, dtype: int64"
            ]
          },
          "metadata": {},
          "execution_count": 97
        }
      ],
      "source": [
        "df.Name.value_counts()"
      ]
    },
    {
      "cell_type": "code",
      "execution_count": 14,
      "metadata": {
        "colab": {
          "base_uri": "https://localhost:8080/"
        },
        "id": "M9w9Gy-1h3gW",
        "outputId": "d6086cfa-2578-45ea-9fd0-ba8e0d61d32b"
      },
      "outputs": [
        {
          "output_type": "execute_result",
          "data": {
            "text/plain": [
              "United States           718\n",
              "China                   622\n",
              "India                   138\n",
              "Germany                 136\n",
              "Russia                  118\n",
              "                       ... \n",
              "Venezuela                 1\n",
              "Eswatini (Swaziland)      1\n",
              "Algeria                   1\n",
              "Liechtenstein             1\n",
              "Nepal                     1\n",
              "Name: Citizenship, Length: 70, dtype: int64"
            ]
          },
          "metadata": {},
          "execution_count": 14
        }
      ],
      "source": [
        "df.Citizenship.value_counts()"
      ]
    },
    {
      "cell_type": "markdown",
      "source": [
        "label encoding data for source and Self_made column"
      ],
      "metadata": {
        "id": "Ma52yXx32V4x"
      }
    },
    {
      "cell_type": "code",
      "execution_count": 154,
      "metadata": {
        "id": "gKSJ7VLxh3gX"
      },
      "outputs": [],
      "source": [
        "from sklearn.preprocessing import LabelEncoder\n",
        "l = LabelEncoder()\n",
        "df['Source'] = l.fit_transform(df['Source'])"
      ]
    },
    {
      "cell_type": "code",
      "execution_count": 155,
      "metadata": {
        "collapsed": true,
        "id": "8IEVmyQkh3gY"
      },
      "outputs": [],
      "source": [
        "df['Self_made'] = l.fit_transform(df['Self_made'])"
      ]
    },
    {
      "cell_type": "code",
      "execution_count": 156,
      "metadata": {
        "id": "uUp9qu81h3gY"
      },
      "outputs": [],
      "source": [
        "dummy = pd.get_dummies(df.Citizenship,drop_first=True)"
      ]
    },
    {
      "cell_type": "code",
      "execution_count": 102,
      "metadata": {
        "collapsed": true,
        "id": "vBQGUr21h3gY"
      },
      "outputs": [],
      "source": [
        "df = pd.concat([df,dummy],axis=1)"
      ]
    },
    {
      "cell_type": "code",
      "source": [
        "df.drop(['Country','Residence','Children','Status','Education','Citizenship','Name'], axis=1,inplace=True)"
      ],
      "metadata": {
        "id": "FCFz1N_z0kL-"
      },
      "execution_count": 157,
      "outputs": []
    },
    {
      "cell_type": "code",
      "execution_count": 158,
      "metadata": {
        "colab": {
          "base_uri": "https://localhost:8080/",
          "height": 204
        },
        "id": "rExERyijh3gZ",
        "outputId": "b956ba93-5724-494b-c45a-740037c2f669"
      },
      "outputs": [
        {
          "output_type": "execute_result",
          "data": {
            "text/plain": [
              "   NetWorth  Source  Rank  Self_made   age\n",
              "0     177.0       6     1          1  57.0\n",
              "1     151.0     143     2          1  49.0\n",
              "2     150.0      86     3          0  72.0\n",
              "3     124.0      96     4          1  65.0\n",
              "4      97.0      48     5          1  36.0"
            ],
            "text/html": [
              "\n",
              "  <div id=\"df-fb834aa5-ac5b-4940-ab9c-9d8026e25dbe\">\n",
              "    <div class=\"colab-df-container\">\n",
              "      <div>\n",
              "<style scoped>\n",
              "    .dataframe tbody tr th:only-of-type {\n",
              "        vertical-align: middle;\n",
              "    }\n",
              "\n",
              "    .dataframe tbody tr th {\n",
              "        vertical-align: top;\n",
              "    }\n",
              "\n",
              "    .dataframe thead th {\n",
              "        text-align: right;\n",
              "    }\n",
              "</style>\n",
              "<table border=\"1\" class=\"dataframe\">\n",
              "  <thead>\n",
              "    <tr style=\"text-align: right;\">\n",
              "      <th></th>\n",
              "      <th>NetWorth</th>\n",
              "      <th>Source</th>\n",
              "      <th>Rank</th>\n",
              "      <th>Self_made</th>\n",
              "      <th>age</th>\n",
              "    </tr>\n",
              "  </thead>\n",
              "  <tbody>\n",
              "    <tr>\n",
              "      <th>0</th>\n",
              "      <td>177.0</td>\n",
              "      <td>6</td>\n",
              "      <td>1</td>\n",
              "      <td>1</td>\n",
              "      <td>57.0</td>\n",
              "    </tr>\n",
              "    <tr>\n",
              "      <th>1</th>\n",
              "      <td>151.0</td>\n",
              "      <td>143</td>\n",
              "      <td>2</td>\n",
              "      <td>1</td>\n",
              "      <td>49.0</td>\n",
              "    </tr>\n",
              "    <tr>\n",
              "      <th>2</th>\n",
              "      <td>150.0</td>\n",
              "      <td>86</td>\n",
              "      <td>3</td>\n",
              "      <td>0</td>\n",
              "      <td>72.0</td>\n",
              "    </tr>\n",
              "    <tr>\n",
              "      <th>3</th>\n",
              "      <td>124.0</td>\n",
              "      <td>96</td>\n",
              "      <td>4</td>\n",
              "      <td>1</td>\n",
              "      <td>65.0</td>\n",
              "    </tr>\n",
              "    <tr>\n",
              "      <th>4</th>\n",
              "      <td>97.0</td>\n",
              "      <td>48</td>\n",
              "      <td>5</td>\n",
              "      <td>1</td>\n",
              "      <td>36.0</td>\n",
              "    </tr>\n",
              "  </tbody>\n",
              "</table>\n",
              "</div>\n",
              "      <button class=\"colab-df-convert\" onclick=\"convertToInteractive('df-fb834aa5-ac5b-4940-ab9c-9d8026e25dbe')\"\n",
              "              title=\"Convert this dataframe to an interactive table.\"\n",
              "              style=\"display:none;\">\n",
              "        \n",
              "  <svg xmlns=\"http://www.w3.org/2000/svg\" height=\"24px\"viewBox=\"0 0 24 24\"\n",
              "       width=\"24px\">\n",
              "    <path d=\"M0 0h24v24H0V0z\" fill=\"none\"/>\n",
              "    <path d=\"M18.56 5.44l.94 2.06.94-2.06 2.06-.94-2.06-.94-.94-2.06-.94 2.06-2.06.94zm-11 1L8.5 8.5l.94-2.06 2.06-.94-2.06-.94L8.5 2.5l-.94 2.06-2.06.94zm10 10l.94 2.06.94-2.06 2.06-.94-2.06-.94-.94-2.06-.94 2.06-2.06.94z\"/><path d=\"M17.41 7.96l-1.37-1.37c-.4-.4-.92-.59-1.43-.59-.52 0-1.04.2-1.43.59L10.3 9.45l-7.72 7.72c-.78.78-.78 2.05 0 2.83L4 21.41c.39.39.9.59 1.41.59.51 0 1.02-.2 1.41-.59l7.78-7.78 2.81-2.81c.8-.78.8-2.07 0-2.86zM5.41 20L4 18.59l7.72-7.72 1.47 1.35L5.41 20z\"/>\n",
              "  </svg>\n",
              "      </button>\n",
              "      \n",
              "  <style>\n",
              "    .colab-df-container {\n",
              "      display:flex;\n",
              "      flex-wrap:wrap;\n",
              "      gap: 12px;\n",
              "    }\n",
              "\n",
              "    .colab-df-convert {\n",
              "      background-color: #E8F0FE;\n",
              "      border: none;\n",
              "      border-radius: 50%;\n",
              "      cursor: pointer;\n",
              "      display: none;\n",
              "      fill: #1967D2;\n",
              "      height: 32px;\n",
              "      padding: 0 0 0 0;\n",
              "      width: 32px;\n",
              "    }\n",
              "\n",
              "    .colab-df-convert:hover {\n",
              "      background-color: #E2EBFA;\n",
              "      box-shadow: 0px 1px 2px rgba(60, 64, 67, 0.3), 0px 1px 3px 1px rgba(60, 64, 67, 0.15);\n",
              "      fill: #174EA6;\n",
              "    }\n",
              "\n",
              "    [theme=dark] .colab-df-convert {\n",
              "      background-color: #3B4455;\n",
              "      fill: #D2E3FC;\n",
              "    }\n",
              "\n",
              "    [theme=dark] .colab-df-convert:hover {\n",
              "      background-color: #434B5C;\n",
              "      box-shadow: 0px 1px 3px 1px rgba(0, 0, 0, 0.15);\n",
              "      filter: drop-shadow(0px 1px 2px rgba(0, 0, 0, 0.3));\n",
              "      fill: #FFFFFF;\n",
              "    }\n",
              "  </style>\n",
              "\n",
              "      <script>\n",
              "        const buttonEl =\n",
              "          document.querySelector('#df-fb834aa5-ac5b-4940-ab9c-9d8026e25dbe button.colab-df-convert');\n",
              "        buttonEl.style.display =\n",
              "          google.colab.kernel.accessAllowed ? 'block' : 'none';\n",
              "\n",
              "        async function convertToInteractive(key) {\n",
              "          const element = document.querySelector('#df-fb834aa5-ac5b-4940-ab9c-9d8026e25dbe');\n",
              "          const dataTable =\n",
              "            await google.colab.kernel.invokeFunction('convertToInteractive',\n",
              "                                                     [key], {});\n",
              "          if (!dataTable) return;\n",
              "\n",
              "          const docLinkHtml = 'Like what you see? Visit the ' +\n",
              "            '<a target=\"_blank\" href=https://colab.research.google.com/notebooks/data_table.ipynb>data table notebook</a>'\n",
              "            + ' to learn more about interactive tables.';\n",
              "          element.innerHTML = '';\n",
              "          dataTable['output_type'] = 'display_data';\n",
              "          await google.colab.output.renderOutput(dataTable, element);\n",
              "          const docLink = document.createElement('div');\n",
              "          docLink.innerHTML = docLinkHtml;\n",
              "          element.appendChild(docLink);\n",
              "        }\n",
              "      </script>\n",
              "    </div>\n",
              "  </div>\n",
              "  "
            ]
          },
          "metadata": {},
          "execution_count": 158
        }
      ],
      "source": [
        "df.head()"
      ]
    },
    {
      "cell_type": "code",
      "source": [
        "df = df[df.Self_made.isin([0, 1])]"
      ],
      "metadata": {
        "id": "sZlXMpgD0_8U"
      },
      "execution_count": 159,
      "outputs": []
    },
    {
      "cell_type": "code",
      "source": [
        "X = df.loc[:, df.columns != 'NetWorth']\n"
      ],
      "metadata": {
        "id": "cpaSxd9w0zxf"
      },
      "execution_count": 160,
      "outputs": []
    },
    {
      "cell_type": "code",
      "source": [
        "y = df['NetWorth']"
      ],
      "metadata": {
        "id": "ehwVwRs903ta"
      },
      "execution_count": 161,
      "outputs": []
    },
    {
      "cell_type": "code",
      "execution_count": 162,
      "metadata": {
        "colab": {
          "base_uri": "https://localhost:8080/"
        },
        "id": "XARQ_7tHh3gb",
        "outputId": "e0e4c900-6302-424a-a773-20fcef6f3a87"
      },
      "outputs": [
        {
          "output_type": "execute_result",
          "data": {
            "text/plain": [
              "Index(['NetWorth', 'Source', 'Rank', 'Self_made', 'age'], dtype='object')"
            ]
          },
          "metadata": {},
          "execution_count": 162
        }
      ],
      "source": [
        "df.columns"
      ]
    },
    {
      "cell_type": "code",
      "source": [
        "from sklearn.preprocessing import StandardScaler \n"
      ],
      "metadata": {
        "id": "0NQb_QTZ3AWA"
      },
      "execution_count": 163,
      "outputs": []
    },
    {
      "cell_type": "markdown",
      "source": [
        "Scaling the dataset. "
      ],
      "metadata": {
        "id": "29wAZih_6WFY"
      }
    },
    {
      "cell_type": "code",
      "execution_count": 167,
      "metadata": {
        "collapsed": true,
        "id": "cNp22rtIh3gc"
      },
      "outputs": [],
      "source": [
        "# Splitting the dataset into the Training set and Test set\n",
        "from sklearn.model_selection import train_test_split\n",
        "X_train, X_test, y_train, y_test = train_test_split(X, y, test_size = 0.2, random_state = 40)"
      ]
    },
    {
      "cell_type": "code",
      "execution_count": 168,
      "metadata": {
        "id": "Mi6YP07Ah3gc"
      },
      "outputs": [],
      "source": [
        "from sklearn.preprocessing import StandardScaler\n",
        "sc = StandardScaler()\n",
        "x_train = sc.fit_transform(X_train)\n",
        "x_test = sc.transform(X_test)"
      ]
    },
    {
      "cell_type": "code",
      "execution_count": 169,
      "metadata": {
        "collapsed": true,
        "id": "tZvUWbS0h3gd"
      },
      "outputs": [],
      "source": [
        "from sklearn import metrics"
      ]
    },
    {
      "cell_type": "code",
      "execution_count": 170,
      "metadata": {
        "colab": {
          "base_uri": "https://localhost:8080/"
        },
        "id": "sEqQg_4th3ge",
        "outputId": "b5f0e1b2-fd43-4d9d-ba40-0b982aa0e28c"
      },
      "outputs": [
        {
          "output_type": "execute_result",
          "data": {
            "text/plain": [
              "LinearRegression()"
            ]
          },
          "metadata": {},
          "execution_count": 170
        }
      ],
      "source": [
        "from sklearn.linear_model import LinearRegression\n",
        "regressor = LinearRegression()\n",
        "regressor.fit(X_train, y_train)"
      ]
    },
    {
      "cell_type": "code",
      "execution_count": 171,
      "metadata": {
        "collapsed": true,
        "id": "KH670eJDh3gf"
      },
      "outputs": [],
      "source": [
        "ypred2 =regressor.predict(X_test)"
      ]
    },
    {
      "cell_type": "code",
      "source": [
        ""
      ],
      "metadata": {
        "id": "4BJs0gAT9vji"
      },
      "execution_count": null,
      "outputs": []
    },
    {
      "cell_type": "code",
      "execution_count": 173,
      "metadata": {
        "collapsed": true,
        "id": "1qcjKJFKh3gh"
      },
      "outputs": [],
      "source": [
        "def adj_r2(x,y):\n",
        "    r2 = regressor.score(x,y)\n",
        "    n = x.shape[0]\n",
        "    p = x.shape[1]\n",
        "    adjusted_r2 = 1-(1-r2)*(n-1)/(n-p-1)\n",
        "    return adjusted_r2"
      ]
    },
    {
      "cell_type": "code",
      "source": [
        "adj_r2(X_train,y_train)"
      ],
      "metadata": {
        "colab": {
          "base_uri": "https://localhost:8080/"
        },
        "id": "7tZF0xSI9q7l",
        "outputId": "62b028a5-dd17-485c-fc83-66ecee949776"
      },
      "execution_count": 174,
      "outputs": [
        {
          "output_type": "execute_result",
          "data": {
            "text/plain": [
              "0.23905343190307926"
            ]
          },
          "metadata": {},
          "execution_count": 174
        }
      ]
    },
    {
      "cell_type": "code",
      "source": [
        "adj_r2(X_test,y_test)"
      ],
      "metadata": {
        "colab": {
          "base_uri": "https://localhost:8080/"
        },
        "id": "ydAtWqqA93zy",
        "outputId": "f244020d-4333-4482-e504-e3ae0cc948b7"
      },
      "execution_count": 175,
      "outputs": [
        {
          "output_type": "execute_result",
          "data": {
            "text/plain": [
              "0.22084847757248371"
            ]
          },
          "metadata": {},
          "execution_count": 175
        }
      ]
    },
    {
      "cell_type": "code",
      "source": [
        "from sklearn.metrics import mean_squared_error\n"
      ],
      "metadata": {
        "id": "VvwgvfRxEDFb"
      },
      "execution_count": 178,
      "outputs": []
    },
    {
      "cell_type": "code",
      "source": [
        "print(mean_squared_error(y_test, ypred2, squared = False))\n"
      ],
      "metadata": {
        "colab": {
          "base_uri": "https://localhost:8080/"
        },
        "id": "bJRqfADREHYB",
        "outputId": "438e65dc-8171-4096-d933-3d5f9d8bd033"
      },
      "execution_count": 179,
      "outputs": [
        {
          "output_type": "stream",
          "name": "stdout",
          "text": [
            "8.79608394948607\n"
          ]
        }
      ]
    },
    {
      "cell_type": "code",
      "source": [
        ""
      ],
      "metadata": {
        "id": "iBRjyPl4EKPx"
      },
      "execution_count": null,
      "outputs": []
    }
  ],
  "metadata": {
    "kernelspec": {
      "display_name": "Python 3",
      "language": "python",
      "name": "python3"
    },
    "language_info": {
      "codemirror_mode": {
        "name": "ipython",
        "version": 3
      },
      "file_extension": ".py",
      "mimetype": "text/x-python",
      "name": "python",
      "nbconvert_exporter": "python",
      "pygments_lexer": "ipython3",
      "version": "3.6.1"
    },
    "colab": {
      "name": "fe_regression.ipynb",
      "provenance": [],
      "collapsed_sections": []
    }
  },
  "nbformat": 4,
  "nbformat_minor": 0
}